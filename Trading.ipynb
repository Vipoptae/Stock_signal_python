{
 "cells": [
  {
   "cell_type": "markdown",
   "id": "267b8be3",
   "metadata": {},
   "source": [
    "import yfinance as yf\n",
    "import matplotlib.pyplot as plt\n",
    "import numpy as np\n",
    "import pandas as pd"
   ]
  },
  {
   "cell_type": "code",
   "execution_count": 41,
   "id": "94179977",
   "metadata": {},
   "outputs": [
    {
     "name": "stdout",
     "output_type": "stream",
     "text": [
      "[*********************100%***********************]  1 of 1 completed\n"
     ]
    }
   ],
   "source": [
    "df = yf.download('ADVANC.BK',start = '2020-01-01')"
   ]
  },
  {
   "cell_type": "code",
   "execution_count": 42,
   "id": "110c653c",
   "metadata": {},
   "outputs": [],
   "source": [
    "def RSI(df, periods = 14, ema = True):\n",
    "    \"\"\"\n",
    "    Returns a pd.Series with the relative strength index.\n",
    "    \"\"\"\n",
    "    close_delta = df['Close'].diff()\n",
    "\n",
    "    # Make two series: one for lower closes and one for higher closes\n",
    "    up = close_delta.clip(lower=0)\n",
    "    down = -1 * close_delta.clip(upper=0)\n",
    "    \n",
    "    if ema == True:\n",
    "    # Use exponential moving average\n",
    "        ma_up = up.ewm(com = periods - 1, adjust=True, min_periods = periods).mean()\n",
    "        ma_down = down.ewm(com = periods - 1, adjust=True, min_periods = periods).mean()\n",
    "    else:\n",
    "        # Use simple moving average\n",
    "        ma_up = up.rolling(window = periods, adjust=False).mean()\n",
    "        ma_down = down.rolling(window = periods, adjust=False).mean()\n",
    "        \n",
    "    rsi = ma_up / ma_down\n",
    "    rsi = 100 - (100/(1 + rsi))\n",
    "    df['RSI'] = rsi\n",
    "    print('RSI indicators added')"
   ]
  },
  {
   "cell_type": "code",
   "execution_count": 43,
   "id": "89fc3bb4",
   "metadata": {},
   "outputs": [
    {
     "name": "stdout",
     "output_type": "stream",
     "text": [
      "RSI indicators added\n"
     ]
    }
   ],
   "source": [
    "RSI(df)"
   ]
  },
  {
   "cell_type": "markdown",
   "id": "46695acf",
   "metadata": {},
   "source": [
    "def MACD(df):\n",
    "    df['EMA12'] = df.Close.ewm(span=12).mean()\n",
    "    df['EMA26'] = df.Close.ewm(span=26).mean()\n",
    "    df['MACD'] = df.EMA12 - df.EMA26\n",
    "    df['signal'] = df.MACD.ewm(span=9).mean()\n",
    "    print('MACD indicators added')"
   ]
  },
  {
   "cell_type": "markdown",
   "id": "56369309",
   "metadata": {},
   "source": [
    "MACD(df)"
   ]
  },
  {
   "cell_type": "code",
   "execution_count": 44,
   "id": "d9c17de2",
   "metadata": {},
   "outputs": [],
   "source": [
    "def Adx(df,lookback=14):\n",
    "    plus_dm = df['High'].diff()\n",
    "    minus_dm = df['Low'].diff()\n",
    "    plus_dm[plus_dm < 0] = 0\n",
    "    minus_dm[minus_dm > 0] = 0\n",
    "    \n",
    "    tr1 = pd.DataFrame(df['High'] - df['Low'])\n",
    "    tr2 = pd.DataFrame(abs(df['High'] - df['Close'].shift(1)))\n",
    "    tr3 = pd.DataFrame(abs(df['Low'] - df['Close'].shift(1)))\n",
    "    frames = [tr1, tr2, tr3]\n",
    "    tr = pd.concat(frames, axis = 1, join = 'inner').max(axis = 1)\n",
    "    atr = tr.rolling(lookback).mean()\n",
    "    \n",
    "    plus_di = 100 * (plus_dm.ewm(alpha = 1/lookback).mean() / atr)\n",
    "    minus_di = abs(100 * (minus_dm.ewm(alpha = 1/lookback).mean() / atr))\n",
    "    dx = (abs(plus_di - minus_di) / abs(plus_di + minus_di)) * 100\n",
    "    adx = ((dx.shift(1) * (lookback - 1)) + dx) / lookback\n",
    "    adx_smooth = adx.ewm(alpha = 1/lookback).mean()\n",
    "    df['Adx'] = adx_smooth\n",
    "    print('ADX indicators added')"
   ]
  },
  {
   "cell_type": "code",
   "execution_count": 45,
   "id": "0d7f3707",
   "metadata": {},
   "outputs": [
    {
     "name": "stdout",
     "output_type": "stream",
     "text": [
      "ADX indicators added\n"
     ]
    }
   ],
   "source": [
    "Adx(df)"
   ]
  },
  {
   "cell_type": "code",
   "execution_count": 411,
   "id": "e5f104cd",
   "metadata": {},
   "outputs": [],
   "source": [
    "def Stoch(df,lookback=50):\n",
    "    #Create the \"L14\" column in the DataFrame\n",
    "    df['L'] = df['Low'].rolling(lookback).min()\n",
    "    #Create the \"H14\" column in the DataFrame\n",
    "    df['H'] = df['High'].rolling(lookback).max()\n",
    "    #Create the \"%K\" column in the DataFrame\n",
    "    df['Sto_K'] = 100*((df['Close'] - df['L']) / (df['H'] - df['L']) )\n",
    "    #Create the \"%D\" column in the DataFrame\n",
    "    df['Sto_D'] = df['Sto_K'].rolling(window=3).mean()\n",
    "    print('Stoch indicators added')"
   ]
  },
  {
   "cell_type": "code",
   "execution_count": null,
   "id": "b301c100",
   "metadata": {},
   "outputs": [],
   "source": []
  },
  {
   "cell_type": "code",
   "execution_count": 412,
   "id": "42e62213",
   "metadata": {},
   "outputs": [
    {
     "name": "stdout",
     "output_type": "stream",
     "text": [
      "Stoch indicators added\n"
     ]
    }
   ],
   "source": [
    "Stoch(df)"
   ]
  },
  {
   "cell_type": "code",
   "execution_count": 413,
   "id": "06f20cc0",
   "metadata": {},
   "outputs": [
    {
     "data": {
      "text/html": [
       "<div>\n",
       "<style scoped>\n",
       "    .dataframe tbody tr th:only-of-type {\n",
       "        vertical-align: middle;\n",
       "    }\n",
       "\n",
       "    .dataframe tbody tr th {\n",
       "        vertical-align: top;\n",
       "    }\n",
       "\n",
       "    .dataframe thead th {\n",
       "        text-align: right;\n",
       "    }\n",
       "</style>\n",
       "<table border=\"1\" class=\"dataframe\">\n",
       "  <thead>\n",
       "    <tr style=\"text-align: right;\">\n",
       "      <th></th>\n",
       "      <th>Open</th>\n",
       "      <th>High</th>\n",
       "      <th>Low</th>\n",
       "      <th>Close</th>\n",
       "      <th>Adj Close</th>\n",
       "      <th>Volume</th>\n",
       "      <th>RSI</th>\n",
       "      <th>Adx</th>\n",
       "      <th>L</th>\n",
       "      <th>H</th>\n",
       "      <th>Sto_K</th>\n",
       "      <th>Sto_D</th>\n",
       "    </tr>\n",
       "    <tr>\n",
       "      <th>Date</th>\n",
       "      <th></th>\n",
       "      <th></th>\n",
       "      <th></th>\n",
       "      <th></th>\n",
       "      <th></th>\n",
       "      <th></th>\n",
       "      <th></th>\n",
       "      <th></th>\n",
       "      <th></th>\n",
       "      <th></th>\n",
       "      <th></th>\n",
       "      <th></th>\n",
       "    </tr>\n",
       "  </thead>\n",
       "  <tbody>\n",
       "    <tr>\n",
       "      <th>2021-08-23</th>\n",
       "      <td>183.5</td>\n",
       "      <td>184.0</td>\n",
       "      <td>180.0</td>\n",
       "      <td>181.0</td>\n",
       "      <td>181.0</td>\n",
       "      <td>10197200</td>\n",
       "      <td>55.278829</td>\n",
       "      <td>21.072035</td>\n",
       "      <td>169.0</td>\n",
       "      <td>186.5</td>\n",
       "      <td>68.571429</td>\n",
       "      <td>76.190476</td>\n",
       "    </tr>\n",
       "    <tr>\n",
       "      <th>2021-08-24</th>\n",
       "      <td>181.5</td>\n",
       "      <td>183.0</td>\n",
       "      <td>180.5</td>\n",
       "      <td>181.0</td>\n",
       "      <td>181.0</td>\n",
       "      <td>5456900</td>\n",
       "      <td>55.278829</td>\n",
       "      <td>20.284683</td>\n",
       "      <td>169.0</td>\n",
       "      <td>186.5</td>\n",
       "      <td>68.571429</td>\n",
       "      <td>73.333333</td>\n",
       "    </tr>\n",
       "    <tr>\n",
       "      <th>2021-08-25</th>\n",
       "      <td>181.0</td>\n",
       "      <td>184.0</td>\n",
       "      <td>180.5</td>\n",
       "      <td>183.5</td>\n",
       "      <td>183.5</td>\n",
       "      <td>7122600</td>\n",
       "      <td>60.242077</td>\n",
       "      <td>19.577835</td>\n",
       "      <td>169.0</td>\n",
       "      <td>186.5</td>\n",
       "      <td>82.857143</td>\n",
       "      <td>73.333333</td>\n",
       "    </tr>\n",
       "    <tr>\n",
       "      <th>2021-08-26</th>\n",
       "      <td>183.5</td>\n",
       "      <td>185.0</td>\n",
       "      <td>182.0</td>\n",
       "      <td>184.0</td>\n",
       "      <td>184.0</td>\n",
       "      <td>9407000</td>\n",
       "      <td>61.170257</td>\n",
       "      <td>19.260342</td>\n",
       "      <td>169.0</td>\n",
       "      <td>186.5</td>\n",
       "      <td>85.714286</td>\n",
       "      <td>79.047619</td>\n",
       "    </tr>\n",
       "    <tr>\n",
       "      <th>2021-08-27</th>\n",
       "      <td>183.5</td>\n",
       "      <td>185.5</td>\n",
       "      <td>183.0</td>\n",
       "      <td>184.5</td>\n",
       "      <td>184.5</td>\n",
       "      <td>9635000</td>\n",
       "      <td>62.122557</td>\n",
       "      <td>19.281539</td>\n",
       "      <td>169.0</td>\n",
       "      <td>186.5</td>\n",
       "      <td>88.571429</td>\n",
       "      <td>85.714286</td>\n",
       "    </tr>\n",
       "  </tbody>\n",
       "</table>\n",
       "</div>"
      ],
      "text/plain": [
       "             Open   High    Low  Close  Adj Close    Volume        RSI  \\\n",
       "Date                                                                     \n",
       "2021-08-23  183.5  184.0  180.0  181.0      181.0  10197200  55.278829   \n",
       "2021-08-24  181.5  183.0  180.5  181.0      181.0   5456900  55.278829   \n",
       "2021-08-25  181.0  184.0  180.5  183.5      183.5   7122600  60.242077   \n",
       "2021-08-26  183.5  185.0  182.0  184.0      184.0   9407000  61.170257   \n",
       "2021-08-27  183.5  185.5  183.0  184.5      184.5   9635000  62.122557   \n",
       "\n",
       "                  Adx      L      H      Sto_K      Sto_D  \n",
       "Date                                                       \n",
       "2021-08-23  21.072035  169.0  186.5  68.571429  76.190476  \n",
       "2021-08-24  20.284683  169.0  186.5  68.571429  73.333333  \n",
       "2021-08-25  19.577835  169.0  186.5  82.857143  73.333333  \n",
       "2021-08-26  19.260342  169.0  186.5  85.714286  79.047619  \n",
       "2021-08-27  19.281539  169.0  186.5  88.571429  85.714286  "
      ]
     },
     "execution_count": 413,
     "metadata": {},
     "output_type": "execute_result"
    }
   ],
   "source": [
    "df.tail()"
   ]
  },
  {
   "cell_type": "code",
   "execution_count": null,
   "id": "60c79c29",
   "metadata": {},
   "outputs": [],
   "source": []
  },
  {
   "cell_type": "code",
   "execution_count": 414,
   "id": "bf709b7a",
   "metadata": {
    "scrolled": true
   },
   "outputs": [
    {
     "data": {
      "image/png": "[encoded data removed]",
      "text/plain": [
       "<Figure size 900x400 with 1 Axes>"
      ]
     },
     "metadata": {
      "needs_background": "light"
     },
     "output_type": "display_data"
    }
   ],
   "source": [
    "plt.figure(figsize=(9,4), dpi = 100)\n",
    "plt.plot(df.Close,label = 'Close', color = 'red')\n",
    "plt.plot(df.RSI,label ='RSI',color='blue')\n",
    "plt.plot(df.Adx,label = 'Adx',color = 'orange')\n",
    "plt.plot(df.Sto_K,label ='Stoch', color = 'grey')\n",
    "plt.legend()\n",
    "plt.show()"
   ]
  },
  {
   "cell_type": "code",
   "execution_count": 558,
   "id": "61e0216b",
   "metadata": {},
   "outputs": [],
   "source": [
    "\n",
    "Buy_RSI, Sell_RSI = [],[]\n",
    "Buy_Adx, Sell_Adx = [],[]\n",
    "Buy_Sto, Sell_Sto = [],[]\n",
    "Buy,Sell = [],[]\n",
    "\n",
    "for i in range(2,len(df)):        \n",
    "    if df.RSI.iloc[i] > 60:\n",
    "        Buy_RSI.append(i)\n",
    "    elif df.RSI.iloc[i] < 50:\n",
    "        Sell.append(i)\n",
    "    if df.RSI.iloc[i] > 71:\n",
    "        Sell.append(i)\n",
    "    if df.RSI.iloc[i] < 25:\n",
    "        Buy_RSI.append(i)\n",
    "for i in range(2,len(df)):\n",
    "    if df.Adx.iloc[i] > df.Adx.iloc[i-1] and df.Adx.iloc[i] > df.Adx.iloc[i-2]:\n",
    "        Buy_Adx.append(i)\n",
    "for i in range(2,len(df)):\n",
    "    if df.Sto_D.iloc[i] >80:\n",
    "        Buy_Sto.append(i)\n",
    "    elif df.Sto_D.iloc[i] <60:\n",
    "        Sell.append(i)\n"
   ]
  },
  {
   "cell_type": "code",
   "execution_count": 559,
   "id": "229a00a3",
   "metadata": {},
   "outputs": [],
   "source": [
    "def check_buy_signal(a,b,c):\n",
    "    list1=list(set(a) & set(b))\n",
    "    result=list(set(list1)&set(c))\n",
    "    return sorted(result)"
   ]
  },
  {
   "cell_type": "code",
   "execution_count": 560,
   "id": "d532ebbc",
   "metadata": {},
   "outputs": [
    {
     "data": {
      "text/plain": [
       "[1]"
      ]
     },
     "execution_count": 560,
     "metadata": {},
     "output_type": "execute_result"
    }
   ],
   "source": [
    "check_buy_signal([1,2],[1,2,3],[1,3])"
   ]
  },
  {
   "cell_type": "code",
   "execution_count": 561,
   "id": "059a4982",
   "metadata": {},
   "outputs": [],
   "source": [
    "def check_buy_signal2(buy,sell):\n",
    "    ans=list()\n",
    "    for bd in sell:\n",
    "        ad = bd\n",
    "        while True:\n",
    "            ad+=1\n",
    "            if ad == min(buy):\n",
    "                ans.append(ad)\n",
    "            if ad > max(buy):\n",
    "                break\n",
    "            if ad in buy:\n",
    "                ans.append(ad)\n",
    "                break\n",
    "    return list(dict.fromkeys(sorted(ans)))\n"
   ]
  },
  {
   "cell_type": "code",
   "execution_count": 562,
   "id": "fd0d789f",
   "metadata": {},
   "outputs": [],
   "source": [
    "def check_sell_signal(buy,sell):\n",
    "    ans=list()\n",
    "    for bd in buy:\n",
    "        ad = bd\n",
    "        while True:\n",
    "            ad+=1\n",
    "            if ad > max(sell):\n",
    "                break\n",
    "            if ad in sell:\n",
    "                ans.append(ad)\n",
    "                break\n",
    "    return list(dict.fromkeys(sorted(ans)))\n"
   ]
  },
  {
   "cell_type": "code",
   "execution_count": 563,
   "id": "595c508f",
   "metadata": {},
   "outputs": [],
   "source": [
    "Buy = check_buy_signal(Buy_Adx,Buy_Sto,Buy_RSI)"
   ]
  },
  {
   "cell_type": "code",
   "execution_count": 564,
   "id": "6408e827",
   "metadata": {},
   "outputs": [
    {
     "data": {
      "text/plain": [
       "[228, 229, 230, 231, 376, 377, 378, 379, 380, 381, 389]"
      ]
     },
     "execution_count": 564,
     "metadata": {},
     "output_type": "execute_result"
    }
   ],
   "source": [
    "Buy"
   ]
  },
  {
   "cell_type": "code",
   "execution_count": 565,
   "id": "88e92c6a",
   "metadata": {},
   "outputs": [
    {
     "data": {
      "text/plain": [
       "[17,\n",
       " 18,\n",
       " 19,\n",
       " 20,\n",
       " 21,\n",
       " 22,\n",
       " 23,\n",
       " 24,\n",
       " 25,\n",
       " 26,\n",
       " 27,\n",
       " 28,\n",
       " 29,\n",
       " 30,\n",
       " 34,\n",
       " 36,\n",
       " 37,\n",
       " 38,\n",
       " 39,\n",
       " 40,\n",
       " 41,\n",
       " 42,\n",
       " 43,\n",
       " 44,\n",
       " 45,\n",
       " 46,\n",
       " 47,\n",
       " 48,\n",
       " 49,\n",
       " 50,\n",
       " 51,\n",
       " 52,\n",
       " 53,\n",
       " 54,\n",
       " 56,\n",
       " 65,\n",
       " 66,\n",
       " 67,\n",
       " 68,\n",
       " 69,\n",
       " 71,\n",
       " 72,\n",
       " 73,\n",
       " 86,\n",
       " 87,\n",
       " 88,\n",
       " 89,\n",
       " 90,\n",
       " 91,\n",
       " 92,\n",
       " 93,\n",
       " 94,\n",
       " 95,\n",
       " 96,\n",
       " 97,\n",
       " 98,\n",
       " 99,\n",
       " 100,\n",
       " 102,\n",
       " 109,\n",
       " 110,\n",
       " 111,\n",
       " 112,\n",
       " 113,\n",
       " 114,\n",
       " 115,\n",
       " 116,\n",
       " 117,\n",
       " 118,\n",
       " 119,\n",
       " 120,\n",
       " 121,\n",
       " 122,\n",
       " 123,\n",
       " 124,\n",
       " 125,\n",
       " 126,\n",
       " 127,\n",
       " 129,\n",
       " 130,\n",
       " 131,\n",
       " 132,\n",
       " 133,\n",
       " 136,\n",
       " 137,\n",
       " 138,\n",
       " 139,\n",
       " 140,\n",
       " 141,\n",
       " 142,\n",
       " 143,\n",
       " 144,\n",
       " 145,\n",
       " 154,\n",
       " 155,\n",
       " 156,\n",
       " 157,\n",
       " 158,\n",
       " 159,\n",
       " 160,\n",
       " 161,\n",
       " 162,\n",
       " 163,\n",
       " 164,\n",
       " 165,\n",
       " 166,\n",
       " 167,\n",
       " 168,\n",
       " 169,\n",
       " 170,\n",
       " 171,\n",
       " 172,\n",
       " 173,\n",
       " 174,\n",
       " 175,\n",
       " 176,\n",
       " 177,\n",
       " 178,\n",
       " 179,\n",
       " 180,\n",
       " 181,\n",
       " 182,\n",
       " 183,\n",
       " 184,\n",
       " 185,\n",
       " 186,\n",
       " 187,\n",
       " 188,\n",
       " 191,\n",
       " 192,\n",
       " 193,\n",
       " 194,\n",
       " 195,\n",
       " 196,\n",
       " 197,\n",
       " 198,\n",
       " 199,\n",
       " 200,\n",
       " 201,\n",
       " 202,\n",
       " 203,\n",
       " 204,\n",
       " 205,\n",
       " 207,\n",
       " 212,\n",
       " 213,\n",
       " 214,\n",
       " 223,\n",
       " 230,\n",
       " 235,\n",
       " 236,\n",
       " 237,\n",
       " 238,\n",
       " 239,\n",
       " 240,\n",
       " 241,\n",
       " 242,\n",
       " 243,\n",
       " 244,\n",
       " 245,\n",
       " 252,\n",
       " 253,\n",
       " 254,\n",
       " 255,\n",
       " 256,\n",
       " 257,\n",
       " 258,\n",
       " 259,\n",
       " 260,\n",
       " 261,\n",
       " 262,\n",
       " 263,\n",
       " 264,\n",
       " 265,\n",
       " 266,\n",
       " 267,\n",
       " 268,\n",
       " 269,\n",
       " 270,\n",
       " 271,\n",
       " 272,\n",
       " 273,\n",
       " 274,\n",
       " 275,\n",
       " 276,\n",
       " 277,\n",
       " 278,\n",
       " 279,\n",
       " 280,\n",
       " 281,\n",
       " 282,\n",
       " 283,\n",
       " 284,\n",
       " 285,\n",
       " 286,\n",
       " 287,\n",
       " 296,\n",
       " 297,\n",
       " 307,\n",
       " 308,\n",
       " 309,\n",
       " 310,\n",
       " 311,\n",
       " 312,\n",
       " 319,\n",
       " 320,\n",
       " 321,\n",
       " 322,\n",
       " 323,\n",
       " 324,\n",
       " 325,\n",
       " 326,\n",
       " 327,\n",
       " 328,\n",
       " 329,\n",
       " 330,\n",
       " 332,\n",
       " 333,\n",
       " 334,\n",
       " 335,\n",
       " 336,\n",
       " 337,\n",
       " 338,\n",
       " 339,\n",
       " 340,\n",
       " 342,\n",
       " 343,\n",
       " 354,\n",
       " 355,\n",
       " 356,\n",
       " 357,\n",
       " 358,\n",
       " 359,\n",
       " 360,\n",
       " 363,\n",
       " 365,\n",
       " 366,\n",
       " 367,\n",
       " 368,\n",
       " 369,\n",
       " 370,\n",
       " 371,\n",
       " 372,\n",
       " 375,\n",
       " 379,\n",
       " 380,\n",
       " 381,\n",
       " 388,\n",
       " 51,\n",
       " 52,\n",
       " 53,\n",
       " 54,\n",
       " 55,\n",
       " 56,\n",
       " 57,\n",
       " 58,\n",
       " 65,\n",
       " 66,\n",
       " 67,\n",
       " 68,\n",
       " 69,\n",
       " 70,\n",
       " 72,\n",
       " 73,\n",
       " 74,\n",
       " 102,\n",
       " 103,\n",
       " 104,\n",
       " 105,\n",
       " 106,\n",
       " 107,\n",
       " 108,\n",
       " 109,\n",
       " 110,\n",
       " 111,\n",
       " 112,\n",
       " 113,\n",
       " 114,\n",
       " 115,\n",
       " 116,\n",
       " 117,\n",
       " 118,\n",
       " 119,\n",
       " 120,\n",
       " 121,\n",
       " 122,\n",
       " 123,\n",
       " 124,\n",
       " 125,\n",
       " 126,\n",
       " 127,\n",
       " 128,\n",
       " 129,\n",
       " 130,\n",
       " 131,\n",
       " 132,\n",
       " 133,\n",
       " 134,\n",
       " 135,\n",
       " 136,\n",
       " 137,\n",
       " 138,\n",
       " 139,\n",
       " 140,\n",
       " 141,\n",
       " 142,\n",
       " 143,\n",
       " 144,\n",
       " 145,\n",
       " 146,\n",
       " 147,\n",
       " 148,\n",
       " 149,\n",
       " 150,\n",
       " 151,\n",
       " 152,\n",
       " 153,\n",
       " 154,\n",
       " 155,\n",
       " 156,\n",
       " 157,\n",
       " 158,\n",
       " 159,\n",
       " 160,\n",
       " 161,\n",
       " 162,\n",
       " 163,\n",
       " 164,\n",
       " 165,\n",
       " 166,\n",
       " 167,\n",
       " 168,\n",
       " 169,\n",
       " 170,\n",
       " 171,\n",
       " 172,\n",
       " 173,\n",
       " 174,\n",
       " 175,\n",
       " 176,\n",
       " 177,\n",
       " 178,\n",
       " 179,\n",
       " 180,\n",
       " 181,\n",
       " 182,\n",
       " 183,\n",
       " 184,\n",
       " 185,\n",
       " 186,\n",
       " 187,\n",
       " 188,\n",
       " 189,\n",
       " 190,\n",
       " 191,\n",
       " 192,\n",
       " 193,\n",
       " 194,\n",
       " 195,\n",
       " 196,\n",
       " 197,\n",
       " 198,\n",
       " 199,\n",
       " 200,\n",
       " 201,\n",
       " 202,\n",
       " 203,\n",
       " 204,\n",
       " 205,\n",
       " 206,\n",
       " 207,\n",
       " 208,\n",
       " 209,\n",
       " 212,\n",
       " 213,\n",
       " 214,\n",
       " 215,\n",
       " 216,\n",
       " 217,\n",
       " 218,\n",
       " 219,\n",
       " 220,\n",
       " 221,\n",
       " 223,\n",
       " 224,\n",
       " 225,\n",
       " 235,\n",
       " 236,\n",
       " 237,\n",
       " 238,\n",
       " 239,\n",
       " 240,\n",
       " 241,\n",
       " 242,\n",
       " 243,\n",
       " 244,\n",
       " 245,\n",
       " 246,\n",
       " 247,\n",
       " 248,\n",
       " 249,\n",
       " 250,\n",
       " 251,\n",
       " 252,\n",
       " 253,\n",
       " 254,\n",
       " 255,\n",
       " 256,\n",
       " 257,\n",
       " 258,\n",
       " 259,\n",
       " 260,\n",
       " 261,\n",
       " 262,\n",
       " 263,\n",
       " 264,\n",
       " 265,\n",
       " 266,\n",
       " 267,\n",
       " 268,\n",
       " 269,\n",
       " 270,\n",
       " 271,\n",
       " 272,\n",
       " 273,\n",
       " 274,\n",
       " 275,\n",
       " 276,\n",
       " 277,\n",
       " 278,\n",
       " 279,\n",
       " 280,\n",
       " 281,\n",
       " 282,\n",
       " 283,\n",
       " 284,\n",
       " 285,\n",
       " 286,\n",
       " 287,\n",
       " 288,\n",
       " 289,\n",
       " 290,\n",
       " 291,\n",
       " 292,\n",
       " 293,\n",
       " 294,\n",
       " 295,\n",
       " 296,\n",
       " 297,\n",
       " 298,\n",
       " 299,\n",
       " 300,\n",
       " 301,\n",
       " 302,\n",
       " 303,\n",
       " 304,\n",
       " 307,\n",
       " 308,\n",
       " 309,\n",
       " 310,\n",
       " 311,\n",
       " 312,\n",
       " 313,\n",
       " 319,\n",
       " 320,\n",
       " 321,\n",
       " 322,\n",
       " 323,\n",
       " 324,\n",
       " 325,\n",
       " 326,\n",
       " 327,\n",
       " 328,\n",
       " 329,\n",
       " 330,\n",
       " 331,\n",
       " 332,\n",
       " 333,\n",
       " 334,\n",
       " 335,\n",
       " 336,\n",
       " 337,\n",
       " 338,\n",
       " 339,\n",
       " 340,\n",
       " 341,\n",
       " 342,\n",
       " 343,\n",
       " 344,\n",
       " 345,\n",
       " 346,\n",
       " 351,\n",
       " 352,\n",
       " 353,\n",
       " 354,\n",
       " 355,\n",
       " 356,\n",
       " 357,\n",
       " 358,\n",
       " 359,\n",
       " 360,\n",
       " 361,\n",
       " 362,\n",
       " 363,\n",
       " 364,\n",
       " 365,\n",
       " 366,\n",
       " 367,\n",
       " 368,\n",
       " 369,\n",
       " 370,\n",
       " 371,\n",
       " 372,\n",
       " 373,\n",
       " 374]"
      ]
     },
     "execution_count": 565,
     "metadata": {},
     "output_type": "execute_result"
    }
   ],
   "source": [
    "Sell"
   ]
  },
  {
   "cell_type": "code",
   "execution_count": 566,
   "id": "520a580a",
   "metadata": {},
   "outputs": [],
   "source": [
    "Buy = check_buy_signal2(Buy,Sell)"
   ]
  },
  {
   "cell_type": "code",
   "execution_count": 567,
   "id": "9be45b59",
   "metadata": {},
   "outputs": [],
   "source": [
    "Sell = check_sell_signal(Buy,Sell)"
   ]
  },
  {
   "cell_type": "code",
   "execution_count": 568,
   "id": "8a293472",
   "metadata": {},
   "outputs": [
    {
     "data": {
      "text/plain": [
       "[228, 231, 376, 380, 381, 389]"
      ]
     },
     "execution_count": 568,
     "metadata": {},
     "output_type": "execute_result"
    }
   ],
   "source": [
    "Buy"
   ]
  },
  {
   "cell_type": "code",
   "execution_count": 569,
   "id": "21da8f3d",
   "metadata": {},
   "outputs": [
    {
     "data": {
      "text/plain": [
       "[230, 235, 379, 381, 388]"
      ]
     },
     "execution_count": 569,
     "metadata": {},
     "output_type": "execute_result"
    }
   ],
   "source": [
    "Sell"
   ]
  },
  {
   "cell_type": "code",
   "execution_count": 570,
   "id": "8f39d4e4",
   "metadata": {},
   "outputs": [
    {
     "data": {
      "image/png": "[encoded data removed]",
      "text/plain": [
       "<Figure size 2400x600 with 1 Axes>"
      ]
     },
     "metadata": {
      "needs_background": "light"
     },
     "output_type": "display_data"
    }
   ],
   "source": [
    "plt.figure(figsize=(12, 3),dpi=200)\n",
    "plt.scatter(df.iloc[Buy].index,df.iloc[Buy].Close,marker=\"^\",color='green')\n",
    "plt.scatter(df.iloc[Sell].index,df.iloc[Sell].Close,marker=\"v\",color='red')\n",
    "plt.plot(df.Close, label='ADVNAC Close',color='k')\n",
    "plt.legend()\n",
    "plt.show()"
   ]
  },
  {
   "cell_type": "code",
   "execution_count": 571,
   "id": "184ac0a0",
   "metadata": {},
   "outputs": [],
   "source": [
    "Realbuys = [i+1 for i in Buy]\n",
    "Realsells = [i+1 for i in Sell]"
   ]
  },
  {
   "cell_type": "code",
   "execution_count": 572,
   "id": "55517fef",
   "metadata": {},
   "outputs": [
    {
     "data": {
      "text/plain": [
       "[229, 232, 377, 381, 382, 390]"
      ]
     },
     "execution_count": 572,
     "metadata": {},
     "output_type": "execute_result"
    }
   ],
   "source": [
    "Realbuys"
   ]
  },
  {
   "cell_type": "code",
   "execution_count": 573,
   "id": "64665544",
   "metadata": {},
   "outputs": [
    {
     "data": {
      "text/plain": [
       "[230, 235, 379, 381, 388]"
      ]
     },
     "execution_count": 573,
     "metadata": {},
     "output_type": "execute_result"
    }
   ],
   "source": [
    "Sell"
   ]
  },
  {
   "cell_type": "code",
   "execution_count": 574,
   "id": "cb31d8bc",
   "metadata": {},
   "outputs": [
    {
     "data": {
      "text/plain": [
       "[231, 236, 380, 382, 389]"
      ]
     },
     "execution_count": 574,
     "metadata": {},
     "output_type": "execute_result"
    }
   ],
   "source": [
    "Realsells"
   ]
  },
  {
   "cell_type": "code",
   "execution_count": 575,
   "id": "f5cb9120",
   "metadata": {},
   "outputs": [],
   "source": [
    "Buyprices = df.Open.iloc[Realbuys]\n",
    "Sellprices = df.Open.iloc[Realsells]"
   ]
  },
  {
   "cell_type": "code",
   "execution_count": 576,
   "id": "76f0b351",
   "metadata": {},
   "outputs": [],
   "source": [
    "if Sellprices.index[0] < Buyprices.index[0]:\n",
    "    Sellprices = Sellprices.drop(Sellprices.index[0])\n",
    "elif Buyprices.index[-1] > Sellprices.index[-1]:\n",
    "    Buyprices = Buyprices.drop(Buyprices.index[-1])"
   ]
  },
  {
   "cell_type": "code",
   "execution_count": 577,
   "id": "396d9204",
   "metadata": {},
   "outputs": [
    {
     "data": {
      "text/plain": [
       "Date\n",
       "2020-12-09    188.0\n",
       "2020-12-16    189.0\n",
       "2021-07-23    176.0\n",
       "2021-08-02    179.5\n",
       "2021-08-03    180.0\n",
       "Name: Open, dtype: float64"
      ]
     },
     "execution_count": 577,
     "metadata": {},
     "output_type": "execute_result"
    }
   ],
   "source": [
    "Buyprices"
   ]
  },
  {
   "cell_type": "code",
   "execution_count": 578,
   "id": "f21f8e91",
   "metadata": {},
   "outputs": [
    {
     "data": {
      "text/plain": [
       "Date\n",
       "2020-12-15    189.5\n",
       "2020-12-22    178.5\n",
       "2021-07-30    178.0\n",
       "2021-08-03    180.0\n",
       "2021-08-13    185.5\n",
       "Name: Open, dtype: float64"
      ]
     },
     "execution_count": 578,
     "metadata": {},
     "output_type": "execute_result"
    }
   ],
   "source": [
    "Sellprices"
   ]
  },
  {
   "cell_type": "code",
   "execution_count": 579,
   "id": "5a0d0910",
   "metadata": {},
   "outputs": [],
   "source": [
    "profit = []\n",
    "\n",
    "for i in range(len(Sellprices)):\n",
    "    profit.append((Sellprices[i]-Buyprices[i])/Buyprices[i])"
   ]
  },
  {
   "cell_type": "code",
   "execution_count": 580,
   "id": "be85ef69",
   "metadata": {},
   "outputs": [
    {
     "data": {
      "text/plain": [
       "[0.007978723404255319,\n",
       " -0.05555555555555555,\n",
       " 0.011363636363636364,\n",
       " 0.002785515320334262,\n",
       " 0.030555555555555555]"
      ]
     },
     "execution_count": 580,
     "metadata": {},
     "output_type": "execute_result"
    }
   ],
   "source": [
    "profit"
   ]
  },
  {
   "cell_type": "markdown",
   "id": "9c571bcb",
   "metadata": {},
   "source": [
    "sum(profit)/len(profit)"
   ]
  },
  {
   "cell_type": "code",
   "execution_count": 581,
   "id": "c1c2ed27",
   "metadata": {},
   "outputs": [
    {
     "data": {
      "text/plain": [
       "0   -0.000574\n",
       "dtype: float64"
      ]
     },
     "execution_count": 581,
     "metadata": {},
     "output_type": "execute_result"
    }
   ],
   "source": [
    "pd.DataFrame(profit).mean()"
   ]
  },
  {
   "cell_type": "code",
   "execution_count": null,
   "id": "c6b04793",
   "metadata": {},
   "outputs": [],
   "source": []
  },
  {
   "cell_type": "code",
   "execution_count": null,
   "id": "9c76af13",
   "metadata": {},
   "outputs": [],
   "source": []
  }
 ],
 "metadata": {
  "kernelspec": {
   "display_name": "Python 3",
   "language": "python",
   "name": "python3"
  },
  "language_info": {
   "codemirror_mode": {
    "name": "ipython",
    "version": 3
   },
   "file_extension": ".py",
   "mimetype": "text/x-python",
   "name": "python",
   "nbconvert_exporter": "python",
   "pygments_lexer": "ipython3",
   "version": "3.8.8"
  }
 },
 "nbformat": 4,
 "nbformat_minor": 5
}
